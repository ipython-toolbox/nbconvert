{	"cells":
	[
 	 	{ 	"cell_type": "markdown", "metadata": {}, 
 	 	 	"source": [
 	 	 	 	"#!/usr/local/bin/python3\n",
 	 	 	 	" "
 	 	 	]
 	 	},
 	 	{ 	"cell_type": "code", "execution_count": 2, "metadata": { "collapsed": false }, "outputs": [], 
 	 	 	"source": [
 	 	 	 	"import os"
 	 	 	]
 	 	},
 	 	{ 	"cell_type": "markdown", "metadata": {}, 
 	 	 	"source": [
 	 	 	 	" \n",
 	 	 	 	"'''\n",
 	 	 	 	"DOCSTRING\n",
 	 	 	 	"'''\n",
 	 	 	 	" "
 	 	 	]
 	 	},
 	 	{ 	"cell_type": "code", "execution_count": 2, "metadata": { "collapsed": false }, "outputs": [], 
 	 	 	"source": [
 	 	 	 	"name=\"STRING\"\n",
 	 	 	 	"test=\"\""
 	 	 	]
 	 	},
 	 	{ 	"cell_type": "markdown", "metadata": {}, 
 	 	 	"source": [
 	 	 	 	" "
 	 	 	]
 	 	}
 	],
 	"metadata": {
 		"anaconda-cloud": {},
 		"kernelspec": { "display_name": "python3", "language": "python", "name": "python3" },
 		"language_info": { "codemirror_mode": { 
 			"name": "ipython", "version": 3 },
 			"file_extension": ".py",
 			"mimetype": "text/x-python",
 			"name": "python",
 			"nbconvert_exporter": "python",
 			"pygments_lexer": "ipython3",
 			"version": "3.4.2"
 			}
 		}, 		"nbformat": 4, "nbformat_minor": 0
}